{
 "cells": [
  {
   "cell_type": "markdown",
   "metadata": {},
   "source": [
    "# Data Analysis with Pandas and Visualization with Matplotlib\n",
    "\n",
    "## Assignment Overview\n",
    "This notebook demonstrates:\n",
    "- Loading and exploring datasets using pandas\n",
    "- Basic data analysis and statistics\n",
    "- Creating visualizations with matplotlib\n",
    "- Data insights and findings"
   ]
  },
  {
   "cell_type": "code",
   "execution_count": null,
   "metadata": {},
   "source": [
    "# Import required libraries\n",
    "import pandas as pd\n",
    "import matplotlib.pyplot as plt\n",
    "import numpy as np\n",
    "from sklearn.datasets import load_iris\n",
    "import seaborn as sns\n",
    "\n",
    "# Set style for better plots\n",
    "plt.style.use('default')\n",
    "sns.set_palette(\"husl\")"
   ],
   "outputs": []
  },
  {
   "cell_type": "markdown",
   "metadata": {},
   "source": [
    "## Task 1: Load and Explore the Dataset"
   ]
  },
  {
   "cell_type": "code",
   "execution_count": null,
   "metadata": {},
   "source": [
    "try:\n",
    "    # Load the Iris dataset\n",
    "    iris_data = load_iris()\n",
    "    \n",
    "    # Create DataFrame\n",
    "    df = pd.DataFrame(iris_data.data, columns=iris_data.feature_names)\n",
    "    df['species'] = iris_data.target_names[iris_data.target]\n",
    "    \n",
    "    print(\"Dataset loaded successfully!\")\n",
    "    print(f\"Dataset shape: {df.shape}\")\n",
    "    \n",
    "except Exception as e:\n",
    "    print(f\"Error loading dataset: {e}\")"
   ],
   "outputs": []
  },
  {
   "cell_type": "code",
   "execution_count": null,
   "metadata": {},
   "source": [
    "# Display first few rows\n",
    "print(\"First 5 rows of the dataset:\")\n",
    "df.head()"
   ],
   "outputs": []
  },
  {
   "cell_type": "code",
   "execution_count": null,
   "metadata": {},
   "source": [
    "# Explore dataset structure\n",
    "print(\"Dataset Info:\")\n",
    "df.info()\n",
    "print(\"\\nData Types:\")\n",
    "print(df.dtypes)\n",
    "print(\"\\nMissing Values:\")\n",
    "print(df.isnull().sum())"
   ],
   "outputs": []
  },
  {
   "cell_type": "code",
   "execution_count": null,
   "metadata": {},
   "source": [
    "# Check for missing values and clean if necessary\n",
    "if df.isnull().sum().sum() > 0:\n",
    "    print(\"Missing values found. Cleaning dataset...\")\n",
    "    df = df.dropna()  # or df.fillna(df.mean()) for numerical columns\n",
    "else:\n",
    "    print(\"No missing values found. Dataset is clean!\")\n",
    "\n",
    "print(f\"Final dataset shape: {df.shape}\")"
   ],
   "outputs": []
  },
  {
   "cell_type": "markdown",
   "metadata": {},
   "source": [
    "## Task 2: Basic Data Analysis"
   ]
  },
  {
   "cell_type": "code",
   "execution_count": null,
   "metadata": {},
   "source": [
    "# Basic statistics for numerical columns\n",
    "print(\"Basic Statistics:\")\n",
    "df.describe()"
   ],
   "outputs": []
  },
  {
   "cell_type": "code",
   "execution_count": null,
   "metadata": {},
   "source": [
    "# Group by species and compute mean\n",
    "print(\"Mean values by species:\")\n",
    "species_means = df.groupby('species').mean()\n",
    "species_means"
   ],
   "outputs": []
  },
  {
   "cell_type": "code",
   "execution_count": null,
   "metadata": {},
   "source": [
    "# Additional analysis - species counts\n",
    "print(\"Species distribution:\")\n",
    "species_counts = df['species'].value_counts()\n",
    "print(species_counts)\n",
    "\n",
    "# Correlation analysis\n",
    "print(\"\\nCorrelation Matrix:\")\n",
    "correlation_matrix = df.select_dtypes(include=[np.number]).corr()\n",
    "print(correlation_matrix)"
   ],
   "outputs": []
  },
  {
   "cell_type": "markdown",
   "metadata": {},
   "source": [
    "## Task 3: Data Visualization\n",
    "\n",
    "### 1. Line Chart - Trends Over Index (simulating time series)"
   ]
  },
  {
   "cell_type": "code",
   "execution_count": null,
   "metadata": {},
   "source": [
    "plt.figure(figsize=(12, 6))\n",
    "plt.plot(df.index, df['sepal length (cm)'], label='Sepal Length', alpha=0.7)\n",
    "plt.plot(df.index, df['petal length (cm)'], label='Petal Length', alpha=0.7)\n",
    "plt.title('Sepal and Petal Length Trends Across Samples', fontsize=14, fontweight='bold')\n",
    "plt.xlabel('Sample Index')\n",
    "plt.ylabel('Length (cm)')\n",
    "plt.legend()\n",
    "plt.grid(True, alpha=0.3)\n",
    "plt.tight_layout()\n",
    "plt.show()"
   ],
   "outputs": []
  },
  {
   "cell_type": "markdown",
   "metadata": {},
   "source": [
    "### 2. Bar Chart - Average Measurements by Species"
   ]
  },
  {
   "cell_type": "code",
   "execution_count": null,
   "metadata": {},
   "source": [
    "fig, axes = plt.subplots(2, 2, figsize=(15, 10))\n",
    "features = ['sepal length (cm)', 'sepal width (cm)', 'petal length (cm)', 'petal width (cm)']\n",
    "\n",
    "for i, feature in enumerate(features):\n",
    "    ax = axes[i//2, i%2]\n",
    "    species_means[feature].plot(kind='bar', ax=ax, color=['skyblue', 'lightcoral', 'lightgreen'])\n",
    "    ax.set_title(f'Average {feature.title()} by Species', fontweight='bold')\n",
    "    ax.set_ylabel('Length (cm)')\n",
    "    ax.tick_params(axis='x', rotation=45)\n",
    "\n",
    "plt.tight_layout()\n",
    "plt.show()"
   ],
   "outputs": []
  },
  {
   "cell_type": "markdown",
   "metadata": {},
   "source": [
    "### 3. Histogram - Distribution of Numerical Columns"
   ]
  },
  {
   "cell_type": "code",
   "execution_count": null,
   "metadata": {},
   "source": [
    "fig, axes = plt.subplots(2, 2, figsize=(15, 10))\n",
    "\n",
    "for i, feature in enumerate(features):\n",
    "    ax = axes[i//2, i%2]\n",
    "    ax.hist(df[feature], bins=20, alpha=0.7, color='steelblue', edgecolor='black')\n",
    "    ax.set_title(f'Distribution of {feature.title()}', fontweight='bold')\n",
    "    ax.set_xlabel(f'{feature.title()}')\n",
    "    ax.set_ylabel('Frequency')\n",
    "    ax.grid(True, alpha=0.3)\n",
    "\n",
    "plt.tight_layout()\n",
    "plt.show()"
   ],
   "outputs": []
  },
  {
   "cell_type": "markdown",
   "metadata": {},
   "source": [
    "### 4. Scatter Plot - Relationship Between Variables"
   ]
  },
  {
   "cell_type": "code",
   "execution_count": null,
   "metadata": {},
   "source": [
    "fig, axes = plt.subplots(1, 2, figsize=(15, 6))\n",
    "\n",
    "# Scatter plot 1: Sepal Length vs Sepal Width\n",
    "for species in df['species'].unique():\n",
    "    species_data = df[df['species'] == species]\n",
    "    axes[0].scatter(species_data['sepal length (cm)'], species_data['sepal width (cm)'], \n",
    "                   label=species, alpha=0.7, s=50)\n",
    "\n",
    "axes[0].set_title('Sepal Length vs Sepal Width', fontweight='bold')\n",
    "axes[0].set_xlabel('Sepal Length (cm)')\n",
    "axes[0].set_ylabel('Sepal Width (cm)')\n",
    "axes[0].legend()\n",
    "axes[0].grid(True, alpha=0.3)\n",
    "\n",
    "# Scatter plot 2: Petal Length vs Petal Width\n",
    "for species in df['species'].unique():\n",
    "    species_data = df[df['species'] == species]\n",
    "    axes[1].scatter(species_data['petal length (cm)'], species_data['petal width (cm)'], \n",
    "                   label=species, alpha=0.7, s=50)\n",
    "\n",
    "axes[1].set_title('Petal Length vs Petal Width', fontweight='bold')\n",
    "axes[1].set_xlabel('Petal Length (cm)')\n",
    "axes[1].set_ylabel('Petal Width (cm)')\n",
    "axes[1].legend()\n",
    "axes[1].grid(True, alpha=0.3)\n",
    "\n",
    "plt.tight_layout()\n",
    "plt.show()"
   ],
   "outputs": []
  },
  {
   "cell_type": "markdown",
   "metadata": {},
   "source": [
    "## Findings and Observations"
   ]
  },
  {
   "cell_type": "code",
   "execution_count": null,
   "metadata": {},
   "source": [
    "print(\"=== KEY FINDINGS ===\")\n",
    "print(\"\\n1. Dataset Overview:\")\n",
    "print(f\"   - Total samples: {len(df)}\")\n",
    "print(f\"   - Features: {len(df.columns)-1}\")\n",
    "print(f\"   - Species: {df['species'].nunique()}\")\n",
    "\n",
    "print(\"\\n2. Species Distribution:\")\n",
    "for species, count in species_counts.items():\n",
    "    print(f\"   - {species}: {count} samples\")\n",
    "\n",
    "print(\"\\n3. Key Observations:\")\n",
    "print(f\"   - Largest average sepal length: {species_means['sepal length (cm)'].idxmax()}\")\n",
    "print(f\"   - Largest average petal length: {species_means['petal length (cm)'].idxmax()}\")\n",
    "print(f\"   - Strongest correlation: {correlation_matrix.abs().unstack().sort_values(ascending=False).iloc[1:2].index[0]}\")\n",
    "\n",
    "print(\"\\n4. Insights:\")\n",
    "print(\"   - Virginica species generally has the largest measurements\")\n",
    "print(\"   - Setosa species is clearly distinguishable by smaller petal measurements\")\n",
    "print(\"   - Strong positive correlation between petal length and width\")\n",
    "print(\"   - Dataset is well-balanced with equal samples per species\")"
   ],
   "outputs": []
  }
 ],
 "metadata": {
  "kernelspec": {
   "display_name": "Python 3",
   "language": "python",
   "name": "python3"
  },
  "language_info": {
   "codemirror_mode": {
    "name": "ipython",
    "version": 3
   },
   "file_extension": ".py",
   "mimetype": "text/x-python",
   "name": "python",
   "nbconvert_exporter": "python",
   "pygments_lexer": "ipython3",
   "version": "3.8.5"
  }
 },
 "nbformat": 4,
 "nbformat_minor": 4
}